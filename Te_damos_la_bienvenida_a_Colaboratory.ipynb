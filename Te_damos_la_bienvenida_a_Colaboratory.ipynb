{
  "cells": [
    {
      "cell_type": "markdown",
      "metadata": {
        "id": "view-in-github",
        "colab_type": "text"
      },
      "source": [
        "<a href=\"https://colab.research.google.com/github/gabtns/Proyectos-de-Machine-Learning/blob/main/Te_damos_la_bienvenida_a_Colaboratory.ipynb\" target=\"_parent\"><img src=\"https://colab.research.google.com/assets/colab-badge.svg\" alt=\"Open In Colab\"/></a>"
      ]
    },
    {
      "cell_type": "code",
      "source": [
        "#importamos los paquetes que vamos a utilizar \n",
        "import pandas as pd\n",
        "import numpy as np\n",
        "from  sklearn.model_selection import train_test_split\n",
        "from sklearn.metrics import r2_score\n",
        "from sklearn.linear_model import LinearRegression\n",
        "import matplotlib.pyplot as plt\n",
        "from sklearn.neural_network import MLPRegressor\n",
        "from sklearn.preprocessing import StandardScaler"
      ],
      "metadata": {
        "id": "E8i3_eMx48Q4"
      },
      "execution_count": 124,
      "outputs": []
    },
    {
      "cell_type": "code",
      "source": [
        "from xgboost import XGBRegressor"
      ],
      "metadata": {
        "id": "nUa3XerDUP1O"
      },
      "execution_count": 136,
      "outputs": []
    },
    {
      "cell_type": "code",
      "source": [
        "df=pd.read_csv(\"/content/base_datos_2008.csv\")#Se carga la base de datos"
      ],
      "metadata": {
        "id": "DjnnSqDF53vK"
      },
      "execution_count": 137,
      "outputs": []
    },
    {
      "cell_type": "code",
      "source": [
        "df.columns"
      ],
      "metadata": {
        "id": "W6CZ0XEYLah2",
        "outputId": "b5450088-c0b8-42b9-bffb-3266010788db",
        "colab": {
          "base_uri": "https://localhost:8080/"
        }
      },
      "execution_count": 138,
      "outputs": [
        {
          "output_type": "execute_result",
          "data": {
            "text/plain": [
              "Index(['Year', 'Month', 'DayofMonth', 'DayOfWeek', 'DepTime', 'CRSDepTime',\n",
              "       'ArrTime', 'CRSArrTime', 'UniqueCarrier', 'FlightNum', 'TailNum',\n",
              "       'ActualElapsedTime', 'CRSElapsedTime', 'AirTime', 'ArrDelay',\n",
              "       'DepDelay', 'Origin', 'Dest', 'Distance', 'TaxiIn', 'TaxiOut',\n",
              "       'Cancelled', 'CancellationCode', 'Diverted', 'CarrierDelay',\n",
              "       'WeatherDelay', 'NASDelay', 'SecurityDelay', 'LateAircraftDelay'],\n",
              "      dtype='object')"
            ]
          },
          "metadata": {},
          "execution_count": 138
        }
      ]
    },
    {
      "cell_type": "code",
      "source": [
        "#XGboost\n",
        "df=df.dropna(subset=['DepDelay','ArrDelay','TaxiIn', 'TaxiOut'])\n",
        "df=df.sample(frac=1).head(50000)\n",
        "x=df[['DepDelay','TaxiIn', 'TaxiOut']]\n",
        "y=df['ArrDelay']\n",
        "#Se crea la variable donde contendra el metodo y sus parametros\n",
        "x_train,x_test,y_train,y_test=train_test_split(x,y,test_size=.4, train_size=.6, \n",
        "                                                    random_state=2, shuffle=True,\n",
        "                                                    stratify=None)\n",
        "#Se crea el modelo y se ajusta con fit y luego se transforman los datos\n",
        "mod=StandardScaler()\n",
        "mod.fit(x_train)\n",
        "x_train=mod.transform(x_train)\n",
        "x_test=mod.transform(x_test)\n",
        "#Se configura los parámetros XGBRegressor \n",
        "rod_t=XGBRegressor(max_depth=2, learning_rate=.5, n_estimators=100, verbosity=2,\n",
        "                   silent=None, n_jobs=-1,subsample=1,random_state=2) \n"
      ],
      "metadata": {
        "id": "sehSQJ9oKmLx"
      },
      "execution_count": 160,
      "outputs": []
    },
    {
      "cell_type": "code",
      "source": [
        "rod_t.fit(x_train,y_train)\n"
      ],
      "metadata": {
        "id": "yAF5dTaDY2CN"
      },
      "execution_count": null,
      "outputs": []
    },
    {
      "cell_type": "code",
      "source": [
        "predic=rod_t.predict(x_test)"
      ],
      "metadata": {
        "id": "XGDZaYQ8Y-la"
      },
      "execution_count": 158,
      "outputs": []
    },
    {
      "cell_type": "code",
      "source": [
        "#Se obtiene el porcentaje de acertacion del modelo\n",
        "r2_score(y_test,predic)"
      ],
      "metadata": {
        "id": "wWRya-rAZKKr",
        "outputId": "cfe10b5d-7068-4b4a-be82-e38b0891e0b3",
        "colab": {
          "base_uri": "https://localhost:8080/"
        }
      },
      "execution_count": 159,
      "outputs": [
        {
          "output_type": "execute_result",
          "data": {
            "text/plain": [
              "0.930055505506301"
            ]
          },
          "metadata": {},
          "execution_count": 159
        }
      ]
    }
  ],
  "metadata": {
    "colab": {
      "collapsed_sections": [],
      "name": "Te damos la bienvenida a Colaboratory",
      "provenance": [],
      "include_colab_link": true
    },
    "kernelspec": {
      "display_name": "Python 3",
      "name": "python3"
    }
  },
  "nbformat": 4,
  "nbformat_minor": 0
}