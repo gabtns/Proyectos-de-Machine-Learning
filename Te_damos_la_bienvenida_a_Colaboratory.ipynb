{
  "cells": [
    {
      "cell_type": "markdown",
      "metadata": {
        "id": "view-in-github",
        "colab_type": "text"
      },
      "source": [
        "<a href=\"https://colab.research.google.com/github/gabtns/Proyectos-de-Machine-Learning/blob/main/Te_damos_la_bienvenida_a_Colaboratory.ipynb\" target=\"_parent\"><img src=\"https://colab.research.google.com/assets/colab-badge.svg\" alt=\"Open In Colab\"/></a>"
      ]
    },
    {
      "cell_type": "code",
      "source": [
        "#importamos los paquetes que vamos a utilizar \n",
        "import pandas as pd\n",
        "import numpy as np\n",
        "from  sklearn.model_selection import train_test_split\n",
        "from sklearn.metrics import r2_score\n",
        "from sklearn.linear_model import LinearRegression\n",
        "import matplotlib.pyplot as plt\n",
        "from sklearn.neural_network import MLPRegressor"
      ],
      "metadata": {
        "id": "E8i3_eMx48Q4"
      },
      "execution_count": 68,
      "outputs": []
    },
    {
      "cell_type": "code",
      "source": [
        "df=pd.read_csv(\"/content/base_datos_2008.csv\")#Se carga la base de datos"
      ],
      "metadata": {
        "id": "DjnnSqDF53vK"
      },
      "execution_count": 67,
      "outputs": []
    },
    {
      "cell_type": "code",
      "source": [
        "#Se procede a limpiar la base de datos,mezclarla y luego crear los modelos, ajustamos y preocedemos a calcular el porcentaje de acertacion\n",
        "df=df.dropna(subset=['AirTime', 'ArrDelay','DepDelay', 'Distance', 'TaxiIn', 'TaxiOut',\n",
        "       'Cancelled', 'CarrierDelay'])\n",
        "df=df.sample(frac=1).head(500000)\n",
        "x=df[['DepDelay', 'Distance', 'TaxiIn', 'TaxiOut']]#Variables regresoras\n",
        "y=df[\"ArrDelay\"]#Variables respuesta\n",
        "from scipy.sparse.construct import random\n",
        "x_test,x_train,y_test,y_train= train_test_split(x,y,test_size=.4,random_state=1)\n",
        "from sklearn import linear_model\n",
        "modelo=linear_model.LinearRegression()\n",
        "modelo.fit(x,y)#Ajustamos el modelo\n",
        "y_t=modelo.predict(x)#Prediccion del modelo \n",
        "print(\"Porcentaje de acertacion del modelo\",r2_score(y_t,y))# % de acertacion"
      ],
      "metadata": {
        "colab": {
          "base_uri": "https://localhost:8080/"
        },
        "id": "dfFb7SFm6R0i",
        "outputId": "8e1b3228-871b-41ce-c098-04eaff7787bb"
      },
      "execution_count": 69,
      "outputs": [
        {
          "output_type": "stream",
          "name": "stdout",
          "text": [
            "Porcentaje de acertacion del modelo 0.944616537722436\n"
          ]
        }
      ]
    },
    {
      "cell_type": "code",
      "source": [
        "from sklearn.preprocessing import StandardScaler\n",
        "from sklearn.neural_network import MLPRegressor\n",
        "from sklearn.neural_network import MLPClassifier\n",
        "sca=StandardScaler()\n",
        "sca.fit(x_train)\n",
        "x_train=sca.transform(x_train)\n",
        "x_test=sca.transform(x_test)\n",
        "#Se procede hcaer el modelo teniendo en cuenta los parametros y que proceso sera el mejor para que pueda trabajar el modelo\n",
        "#en conjunto se aplica arbitrariamente la cantidad de capas que debe tener el modelo,entre otras cosas.\n",
        "cld=MLPRegressor( hidden_layer_sizes=5,activation=\"logistic\", solver=\"lbfgs\", alpha=0.0001, batch_size=\"auto\",\n",
        "                 learning_rate=\"constant\", learning_rate_init=0.001, power_t=0.5, max_iter=200,\n",
        "                 shuffle=True, random_state=10, tol=0.0001, verbose=False, warm_start=True,\n",
        "                 momentum=0.9, nesterovs_momentum=True, early_stopping=False, validation_fraction=0.1,\n",
        "                 beta_1=0.9, beta_2=0.999, epsilon=1e-8, n_iter_no_change=10, max_fun=15000)\n"
      ],
      "metadata": {
        "id": "Zkgc8x409bbp"
      },
      "execution_count": 80,
      "outputs": []
    },
    {
      "cell_type": "code",
      "source": [
        "model=cld.fit(x_train,y_train)"
      ],
      "metadata": {
        "colab": {
          "base_uri": "https://localhost:8080/"
        },
        "id": "oNw3QatFCXSR",
        "outputId": "730af21f-09d3-4775-fbab-a63cceef4163"
      },
      "execution_count": 77,
      "outputs": [
        {
          "output_type": "stream",
          "name": "stderr",
          "text": [
            "/usr/local/lib/python3.7/dist-packages/sklearn/neural_network/_multilayer_perceptron.py:549: ConvergenceWarning: lbfgs failed to converge (status=1):\n",
            "STOP: TOTAL NO. of ITERATIONS REACHED LIMIT.\n",
            "\n",
            "Increase the number of iterations (max_iter) or scale the data as shown in:\n",
            "    https://scikit-learn.org/stable/modules/preprocessing.html\n",
            "  self.n_iter_ = _check_optimize_result(\"lbfgs\", opt_res, self.max_iter)\n"
          ]
        }
      ]
    },
    {
      "cell_type": "code",
      "source": [
        "predice=model.predict(x_test)"
      ],
      "metadata": {
        "id": "ywJd6boqCmhi"
      },
      "execution_count": 78,
      "outputs": []
    },
    {
      "cell_type": "code",
      "source": [
        "print(\"El % de acertacion es del \",r2_score(y_test,predice))"
      ],
      "metadata": {
        "colab": {
          "base_uri": "https://localhost:8080/"
        },
        "id": "vhZIB1yGB5kZ",
        "outputId": "04c79ad5-0907-4c62-c8a3-2d0288915916"
      },
      "execution_count": 79,
      "outputs": [
        {
          "output_type": "stream",
          "name": "stdout",
          "text": [
            "El % de acertacion es del  0.9546245866369842\n"
          ]
        }
      ]
    }
  ],
  "metadata": {
    "colab": {
      "collapsed_sections": [],
      "name": "Te damos la bienvenida a Colaboratory",
      "provenance": [],
      "include_colab_link": true
    },
    "kernelspec": {
      "display_name": "Python 3",
      "name": "python3"
    }
  },
  "nbformat": 4,
  "nbformat_minor": 0
}