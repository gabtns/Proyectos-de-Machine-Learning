{
  "nbformat": 4,
  "nbformat_minor": 0,
  "metadata": {
    "colab": {
      "provenance": [],
      "authorship_tag": "ABX9TyPvg4cZEBAFOAT1IgvguCgb",
      "include_colab_link": true
    },
    "kernelspec": {
      "name": "python3",
      "display_name": "Python 3"
    },
    "language_info": {
      "name": "python"
    }
  },
  "cells": [
    {
      "cell_type": "markdown",
      "metadata": {
        "id": "view-in-github",
        "colab_type": "text"
      },
      "source": [
        "<a href=\"https://colab.research.google.com/github/gabtns/Proyectos-de-Machine-Learning/blob/main/WebScraping(Clima).ipynb\" target=\"_parent\"><img src=\"https://colab.research.google.com/assets/colab-badge.svg\" alt=\"Open In Colab\"/></a>"
      ]
    },
    {
      "cell_type": "markdown",
      "source": [
        " Se importan las librerias para poder obtener los datos de la web, que en este caso es una pagina web del clima que tiene como objetivo la ciudad de rosario.\n",
        "Las librerias principales son, requests y bs4.\n",
        "\n",
        "*Realizado por Gabriel Alegre  27/07/2023*"
      ],
      "metadata": {
        "id": "k5PeJAUH7N-b"
      }
    },
    {
      "cell_type": "code",
      "execution_count": 1,
      "metadata": {
        "id": "WEOI2D4ZUjrL"
      },
      "outputs": [],
      "source": [
        "import requests\n",
        "from bs4 import BeautifulSoup\n",
        "import pandas as pd\n",
        "from IPython.display import Image\n",
        "import matplotlib.pyplot as plt"
      ]
    },
    {
      "cell_type": "markdown",
      "source": [
        "En esta seccion se obtiene la ruta de la página web de donde se sacaran las temperaturas del lugar elegido, el cual es ROSARIO."
      ],
      "metadata": {
        "id": "N5ySzXPt62VY"
      }
    },
    {
      "cell_type": "code",
      "source": [
        "tiempo = 'https://www.meteored.com.ar/tiempo-en_Rosario-America+Sur-Argentina-Santa+Fe--1-13586.html'"
      ],
      "metadata": {
        "id": "FnOCR8B26iYf"
      },
      "execution_count": 2,
      "outputs": []
    },
    {
      "cell_type": "markdown",
      "source": [
        "A partir de la creación de la variable con la URL, se obtiene el texto del html. El cual debe ser procesado para su posterior analisis."
      ],
      "metadata": {
        "id": "ANApkyoRqZ4X"
      }
    },
    {
      "cell_type": "code",
      "source": [
        "temp = requests.get(tiempo)\n",
        "soup_tiempo = BeautifulSoup(temp.text,\"lxml\")\n",
        "soup_tiempo"
      ],
      "metadata": {
        "id": "1TwKxwwj6iq_"
      },
      "execution_count": null,
      "outputs": []
    },
    {
      "cell_type": "markdown",
      "source": [
        "Para realizar dicha acciñon primeramente se debe observar en las etiquetas donde estan contenidas los datos que deseamos obtener, con F12 se reliza la busqueda y una vez realidazo este paso se empieza a buscar los valores mediante el metodo FIND, el cual se le pasa como parametros la etiqueta, la clase y como se llama dicha clase."
      ],
      "metadata": {
        "id": "be_rYrf4WWV7"
      }
    },
    {
      "cell_type": "code",
      "source": [
        "clima = soup_tiempo.find(\"span\",attrs={\"class\" : \"datos-dos-semanas\"})\n",
        "clima"
      ],
      "metadata": {
        "id": "mpaVBvry6ity"
      },
      "execution_count": null,
      "outputs": []
    },
    {
      "cell_type": "markdown",
      "source": [
        "Luego se empieza a filtrar hasta obtener los datos deseados.\n"
      ],
      "metadata": {
        "id": "wCjxNoFTqx4S"
      }
    },
    {
      "cell_type": "code",
      "source": [
        "dias = soup_tiempo.find_all(\"span\",attrs ={\"class\": \"cuando\"})\n",
        "dias"
      ],
      "metadata": {
        "colab": {
          "base_uri": "https://localhost:8080/"
        },
        "id": "LkwUXGQ6sOo1",
        "outputId": "562ac39d-2fa3-4846-dc5c-9a3807122edd"
      },
      "execution_count": 5,
      "outputs": [
        {
          "output_type": "execute_result",
          "data": {
            "text/plain": [
              "[<span class=\"cuando\">Hoy<br/><span>27 Jul</span></span>,\n",
              " <span class=\"cuando\">Mañana<br/><span>28 Jul</span></span>,\n",
              " <span class=\"cuando\">Sábado<br/><span>29 Jul</span></span>,\n",
              " <span class=\"cuando\">Domingo<br/><span>30 Jul</span></span>,\n",
              " <span class=\"cuando\">Lunes<br/><span>31 Jul</span></span>,\n",
              " <span class=\"cuando\">Martes<br/><span>1 Ago</span></span>,\n",
              " <span class=\"cuando\">Miércoles<br/><span>2 Ago</span></span>]"
            ]
          },
          "metadata": {},
          "execution_count": 5
        }
      ]
    },
    {
      "cell_type": "code",
      "source": [
        "# Mediante el bucle se tratan los datos para que puedan ser tratados. Al finalizar el proceso los datos de los dias quedan en una lista.\n",
        "lenf = []\n",
        "for i in dias:\n",
        "  dias_efec = i.text\n",
        "  dias = dias_efec[:-3]\n",
        "  lenf.append(dias)\n",
        "lenf"
      ],
      "metadata": {
        "colab": {
          "base_uri": "https://localhost:8080/"
        },
        "id": "-VPfoZ6QIH61",
        "outputId": "775cf1f3-a01b-4bf3-a176-42f494c4af65"
      },
      "execution_count": 6,
      "outputs": [
        {
          "output_type": "execute_result",
          "data": {
            "text/plain": [
              "['Hoy27 ',\n",
              " 'Mañana28 ',\n",
              " 'Sábado29 ',\n",
              " 'Domingo30 ',\n",
              " 'Lunes31 ',\n",
              " 'Martes1 ',\n",
              " 'Miércoles2 ']"
            ]
          },
          "metadata": {},
          "execution_count": 6
        }
      ]
    },
    {
      "cell_type": "code",
      "source": [
        "# Se reemplazan los valores para que tengan la misma forma los datos.\n",
        "lista = []\n",
        "for x in lenf:\n",
        "  if x == 'Hoy22 ':\n",
        "    x = \"Domingo22\"\n",
        "  if x == 'Mañana23 ':\n",
        "    x = \"Lunes23\"\n",
        "  lista.append(x)\n",
        "lista"
      ],
      "metadata": {
        "colab": {
          "base_uri": "https://localhost:8080/"
        },
        "id": "kqWn5kgwxMPB",
        "outputId": "16efa1a5-5766-404c-f2f9-90eaa3ef52e5"
      },
      "execution_count": 7,
      "outputs": [
        {
          "output_type": "execute_result",
          "data": {
            "text/plain": [
              "['Hoy27 ',\n",
              " 'Mañana28 ',\n",
              " 'Sábado29 ',\n",
              " 'Domingo30 ',\n",
              " 'Lunes31 ',\n",
              " 'Martes1 ',\n",
              " 'Miércoles2 ']"
            ]
          },
          "metadata": {},
          "execution_count": 7
        }
      ]
    },
    {
      "cell_type": "markdown",
      "source": [
        "En este paso se puede observar que ya tenemos los datops, el paso que faltaria seria limpiarlos para poder trabajar con ellos."
      ],
      "metadata": {
        "id": "YqbtC_5DW_RP"
      }
    },
    {
      "cell_type": "code",
      "source": [
        "temperaturas = soup_tiempo.find_all(\"span\",attrs={\"class\" : \"temperatura\"})\n",
        "temperaturas"
      ],
      "metadata": {
        "colab": {
          "base_uri": "https://localhost:8080/"
        },
        "id": "d_zdmjYSsO9L",
        "outputId": "2cdbe8b0-f53c-4d55-8ef2-cd7688e7ffe0"
      },
      "execution_count": 8,
      "outputs": [
        {
          "output_type": "execute_result",
          "data": {
            "text/plain": [
              "[<span class=\"temperatura changeUnitT\" data=\"6|0|\">6</span>,\n",
              " <span class=\"temperatura changeUnitT\" data=\"8|0|\">8</span>,\n",
              " <span class=\"temperatura changeUnitT\" data=\"6|0|\">6</span>,\n",
              " <span class=\"temperatura changeUnitT\" data=\"0|0|\">0</span>,\n",
              " <span class=\"temperatura\"> <span class=\"icono\"><svg class=\"simbW\" version=\"1.1\" xmlns=\"http://www.w3.org/2000/svg\"><use class=\"useSW\" data=\"sp3\" xlink:href=\"#sW2n\"></use></svg></span> <span class=\"dato-temperatura changeUnitT\" data=\"5.07|0|\">5°</span> <span class=\"sensacion changeUnitT\" data=\"3.24|0|Sensación de \">Sensación de <strong>3°</strong></span> </span>,\n",
              " <span class=\"temperatura\"> <span class=\"maxima changeUnitT\" data=\"15.71|0|\">16°</span> <span class=\"barra\">/</span> <span class=\"minima changeUnitT\" data=\"4.61|0|\">5°</span> </span>,\n",
              " <span class=\"temperatura\"> <span class=\"maxima changeUnitT\" data=\"16.44|0|\">16°</span> <span class=\"barra\">/</span> <span class=\"minima changeUnitT\" data=\"4.7|0|\">5°</span> </span>,\n",
              " <span class=\"temperatura\"> <span class=\"maxima changeUnitT\" data=\"18.13|0|\">18°</span> <span class=\"barra\">/</span> <span class=\"minima changeUnitT\" data=\"7.94|0|\">8°</span> </span>,\n",
              " <span class=\"temperatura\"> <span class=\"maxima changeUnitT\" data=\"20.04|0|\">20°</span> <span class=\"barra\">/</span> <span class=\"minima changeUnitT\" data=\"9.83|0|\">10°</span> </span>,\n",
              " <span class=\"temperatura\"> <span class=\"maxima changeUnitT\" data=\"22.8|0|\">23°</span> <span class=\"barra\">/</span> <span class=\"minima changeUnitT\" data=\"9.71|0|\">10°</span> </span>,\n",
              " <span class=\"temperatura\"> <span class=\"maxima changeUnitT\" data=\"26.7|0|\">27°</span> <span class=\"barra\">/</span> <span class=\"minima changeUnitT\" data=\"16.57|0|\">17°</span> </span>,\n",
              " <span class=\"temperatura\"> <span class=\"maxima changeUnitT\" data=\"20.22|0|\">20°</span> <span class=\"barra\">/</span> <span class=\"minima changeUnitT\" data=\"14.73|0|\">15°</span> </span>]"
            ]
          },
          "metadata": {},
          "execution_count": 8
        }
      ]
    },
    {
      "cell_type": "markdown",
      "source": [
        "Se guardan los datos y se procede a limpiar de forma que definitivamente se puedan utilizar para su posterior analisis.\n",
        "Se obtienen los datos mediante una lista por comprension y luego se reemplazan caracteres indeseados. Estos valores tratados se guardan en una lista vacia realizada con anterioridad."
      ],
      "metadata": {
        "id": "SVg0PnL9r_AG"
      }
    },
    {
      "cell_type": "code",
      "source": [
        "temperaturas_maximas = soup_tiempo.find_all(\"span\",attrs={\"class\" : \"maxima changeUnitT\"})\n",
        "temperaturas_max = [i.get(\"data\") for i in temperaturas_maximas]\n",
        "minimax = []\n",
        "for i in temperaturas_max :\n",
        "  d = i.replace(\"|\",\"\")\n",
        "  x = d[:-1]\n",
        "  minimax.append(x)\n",
        "minimax"
      ],
      "metadata": {
        "colab": {
          "base_uri": "https://localhost:8080/"
        },
        "id": "P6i9troVsPRa",
        "outputId": "2a183c40-f9ad-473c-b870-bc3eadb37296"
      },
      "execution_count": 9,
      "outputs": [
        {
          "output_type": "execute_result",
          "data": {
            "text/plain": [
              "['15.71', '16.44', '18.13', '20.04', '22.8', '26.7', '20.22']"
            ]
          },
          "metadata": {},
          "execution_count": 9
        }
      ]
    },
    {
      "cell_type": "markdown",
      "source": [
        "Se hacen los mismos pasos para las temperaturas minimas.\n"
      ],
      "metadata": {
        "id": "FrdMlT_MXtL1"
      }
    },
    {
      "cell_type": "code",
      "source": [
        "temperaturas_minimas = soup_tiempo.find_all(\"span\",attrs={\"class\" : \"minima changeUnitT\"})\n",
        "temp_minimas = [i.get(\"data\") for i in temperaturas_minimas]\n",
        "mintem = []\n",
        "for i in temp_minimas:\n",
        "  d = i.replace(\"|\",\"\")\n",
        "  x = d[:-1]\n",
        "  mintem.append(x)\n",
        "mintem"
      ],
      "metadata": {
        "colab": {
          "base_uri": "https://localhost:8080/"
        },
        "id": "LdGK-Np9vRs0",
        "outputId": "f4800767-2e1d-42ac-ca2b-637acb05eaa7"
      },
      "execution_count": 10,
      "outputs": [
        {
          "output_type": "execute_result",
          "data": {
            "text/plain": [
              "['4.61', '4.7', '7.94', '9.83', '9.71', '16.57', '14.73']"
            ]
          },
          "metadata": {},
          "execution_count": 10
        }
      ]
    },
    {
      "cell_type": "markdown",
      "source": [
        "# Se transforman los datos mediante la libreria pandas."
      ],
      "metadata": {
        "id": "GK69D-86sUMH"
      }
    },
    {
      "cell_type": "code",
      "source": [
        "mintem = pd.to_numeric(mintem)\n",
        "minimax = pd.to_numeric(minimax)\n"
      ],
      "metadata": {
        "id": "zEMbYmosnXJ6"
      },
      "execution_count": 11,
      "outputs": []
    },
    {
      "cell_type": "code",
      "source": [
        "# Se crea el dataframe con los datos recibidos en los cuales se le da una longitud que este acorde a los dias que se quieran observar.\n",
        "df = pd.DataFrame({\"dias\" : lista, \"Temp. Max\":minimax[:7],\" Temp. Min \": mintem[:7] })\n",
        "df.dtypes\n",
        "lista"
      ],
      "metadata": {
        "colab": {
          "base_uri": "https://localhost:8080/"
        },
        "id": "wBCFSVJ0AhzV",
        "outputId": "a39d252e-7132-47f9-9891-fbb1e0b12bda"
      },
      "execution_count": 12,
      "outputs": [
        {
          "output_type": "execute_result",
          "data": {
            "text/plain": [
              "['Hoy27 ',\n",
              " 'Mañana28 ',\n",
              " 'Sábado29 ',\n",
              " 'Domingo30 ',\n",
              " 'Lunes31 ',\n",
              " 'Martes1 ',\n",
              " 'Miércoles2 ']"
            ]
          },
          "metadata": {},
          "execution_count": 12
        }
      ]
    },
    {
      "cell_type": "markdown",
      "source": [
        "# Se crea la funcion para visualizar los datos, en los cuales se muestran los dias y las temperaturas de cada dia.\n"
      ],
      "metadata": {
        "id": "_A4QLyUFu8db"
      }
    },
    {
      "cell_type": "code",
      "source": [
        "def mat(x,y,z):\n",
        "  plt.figure(figsize = (12,7), tight_layout = True , )\n",
        "  plt.plot(x,y,color='red',label = \"Max\")\n",
        "  plt.plot(x,z,color='g',label = \"Min\")\n",
        "  plt.title(\"Las temperaturas de la semana\",fontsize=15)\n",
        "  plt.xlabel(\"Dias de la semana\",fontsize=15)\n",
        "  plt.ylabel(\"Temperaturas  ºC\",fontsize=15)\n",
        "  plt.grid(True)\n",
        "  plt.legend()\n",
        "mat(lista,minimax[:7],mintem[:7])"
      ],
      "metadata": {
        "colab": {
          "base_uri": "https://localhost:8080/",
          "height": 707
        },
        "id": "1610Edt1PV51",
        "outputId": "a5113f8e-fc3a-4267-b6bf-e737d4363b8f"
      },
      "execution_count": 14,
      "outputs": [
        {
          "output_type": "display_data",
          "data": {
            "text/plain": [
              "<Figure size 1200x700 with 1 Axes>"
            ],
            "image/png": "[encoded data removed]"
          },
          "metadata": {}
        }
      ]
    }
  ]
}